{
  "nbformat": 4,
  "nbformat_minor": 0,
  "metadata": {
    "colab": {
      "provenance": [],
      "gpuType": "T4"
    },
    "kernelspec": {
      "name": "python3",
      "display_name": "Python 3"
    },
    "language_info": {
      "name": "python"
    },
    "accelerator": "GPU"
  },
  "cells": [
    {
      "cell_type": "code",
      "execution_count": 1,
      "metadata": {
        "id": "aIpHeQh-2gDe"
      },
      "outputs": [],
      "source": [
        "import torch"
      ]
    },
    {
      "cell_type": "code",
      "source": [
        "device = 'cuda' if torch.cuda.is_available() else 'cpu'"
      ],
      "metadata": {
        "id": "mNkYK8bD4DKt"
      },
      "execution_count": 2,
      "outputs": []
    },
    {
      "cell_type": "code",
      "source": [
        "device"
      ],
      "metadata": {
        "colab": {
          "base_uri": "https://localhost:8080/",
          "height": 35
        },
        "id": "IPOmVfR54G97",
        "outputId": "3f8df48c-0330-4358-f60f-5aeb551bde94"
      },
      "execution_count": 3,
      "outputs": [
        {
          "output_type": "execute_result",
          "data": {
            "text/plain": [
              "'cuda'"
            ],
            "application/vnd.google.colaboratory.intrinsic+json": {
              "type": "string"
            }
          },
          "metadata": {},
          "execution_count": 3
        }
      ]
    },
    {
      "cell_type": "code",
      "source": [
        "from torch import nn\n",
        "import matplotlib.pyplot as plt"
      ],
      "metadata": {
        "id": "-oRK6ZJe4Hrb"
      },
      "execution_count": 4,
      "outputs": []
    },
    {
      "cell_type": "markdown",
      "source": [
        "## 1. Data (preparing and loading)\n",
        "\n",
        "Data can be almost anything... in machine learning.\n",
        "\n",
        "* Excel spreadsheet\n",
        "* Images of any kind\n",
        "* Videos\n",
        "* DNA\n",
        "* Text\n",
        "\n",
        "Machine learning is a game of two parts:\n",
        "1. Get data into a numerical representation\n",
        "2. Build a model to learn patterns in that numerical representation\n",
        "\n",
        "To showcaase this, let's creat some *known* data using the linear regression formula.\n",
        "\n",
        "We'll use a linear regression formula to make a straight line with *known* **parameters**"
      ],
      "metadata": {
        "id": "3lbDywbL4r9F"
      }
    },
    {
      "cell_type": "code",
      "source": [
        "# Create *known* parameters\n",
        "weight = 0.7\n",
        "bias = 0.3\n",
        "\n",
        "# Create\n",
        "start = 0\n",
        "end = 1\n",
        "step = 0.02\n",
        "X = torch.arange(start, end, step).unsqueeze(dim=1)\n",
        "y = weight * X + bias\n",
        "\n",
        "X[:10], y[:10]"
      ],
      "metadata": {
        "colab": {
          "base_uri": "https://localhost:8080/"
        },
        "id": "TUDRT52z4iSO",
        "outputId": "e668c178-f5c5-4950-d459-a4451b79ea5d"
      },
      "execution_count": 5,
      "outputs": [
        {
          "output_type": "execute_result",
          "data": {
            "text/plain": [
              "(tensor([[0.0000],\n",
              "         [0.0200],\n",
              "         [0.0400],\n",
              "         [0.0600],\n",
              "         [0.0800],\n",
              "         [0.1000],\n",
              "         [0.1200],\n",
              "         [0.1400],\n",
              "         [0.1600],\n",
              "         [0.1800]]),\n",
              " tensor([[0.3000],\n",
              "         [0.3140],\n",
              "         [0.3280],\n",
              "         [0.3420],\n",
              "         [0.3560],\n",
              "         [0.3700],\n",
              "         [0.3840],\n",
              "         [0.3980],\n",
              "         [0.4120],\n",
              "         [0.4260]]))"
            ]
          },
          "metadata": {},
          "execution_count": 5
        }
      ]
    },
    {
      "cell_type": "code",
      "source": [
        "len(X), len(y)"
      ],
      "metadata": {
        "colab": {
          "base_uri": "https://localhost:8080/"
        },
        "id": "XYUzyjiK6aZl",
        "outputId": "15661450-edb1-4aef-cca2-0c5e6e316df0"
      },
      "execution_count": 6,
      "outputs": [
        {
          "output_type": "execute_result",
          "data": {
            "text/plain": [
              "(50, 50)"
            ]
          },
          "metadata": {},
          "execution_count": 6
        }
      ]
    },
    {
      "cell_type": "markdown",
      "source": [
        "### Splitting data into training and test sets\n",
        "\n",
        "Let's create a training and test set with our data\n",
        "---\n",
        "\n"
      ],
      "metadata": {
        "id": "gQgWSPPZ7E6y"
      }
    },
    {
      "cell_type": "code",
      "source": [
        "# Create a train/test split\n",
        "train_split = int(0.8 * len(X))\n",
        "X_train, y_train = X[:train_split], y[:train_split]\n",
        "X_test, y_test = X[train_split:], y[train_split:]\n",
        "\n",
        "len(X_train), len(y_train), len(X_test), len(y_test)"
      ],
      "metadata": {
        "colab": {
          "base_uri": "https://localhost:8080/"
        },
        "id": "JpMNCeel6elq",
        "outputId": "b4d70934-d335-4be3-9ea3-bddde4a3cbb4"
      },
      "execution_count": 7,
      "outputs": [
        {
          "output_type": "execute_result",
          "data": {
            "text/plain": [
              "(40, 40, 10, 10)"
            ]
          },
          "metadata": {},
          "execution_count": 7
        }
      ]
    },
    {
      "cell_type": "markdown",
      "source": [
        "How might we better visualize our data?"
      ],
      "metadata": {
        "id": "2qH6MO_MHJCI"
      }
    },
    {
      "cell_type": "code",
      "source": [
        "def plot_predictions(train_data=X_train,\n",
        "                     train_labels=y_train,\n",
        "                     test_data=X_test,\n",
        "                     test_labels=y_test,\n",
        "                     predictions=None):\n",
        "  plt.figure(figsize=(10, 7))\n",
        "\n",
        "  # Plot training data in blue\n",
        "  plt.scatter(train_data, train_labels, c='b', s=4, label='Training data')\n",
        "\n",
        "  # Plot testing data in green\n",
        "  plt.scatter(test_data, test_labels, c='g', s=4, label='Testing data')\n",
        "\n",
        "  # Are there predictions\n",
        "  if predictions is not None:\n",
        "    plt.scatter(test_data, predictions, c='r', s=4, label='Predictions')\n",
        "\n",
        "  # Show the legend\n",
        "  plt.legend(prop={'size': 14})"
      ],
      "metadata": {
        "id": "3HhaldZVGZ4d"
      },
      "execution_count": 8,
      "outputs": []
    },
    {
      "cell_type": "code",
      "source": [
        "plot_predictions()"
      ],
      "metadata": {
        "colab": {
          "base_uri": "https://localhost:8080/",
          "height": 599
        },
        "id": "ohy0fQ3BI-1R",
        "outputId": "30f91bc5-69b5-4745-dc37-f0f19bcfe135"
      },
      "execution_count": 9,
      "outputs": [
        {
          "output_type": "display_data",
          "data": {
            "text/plain": [
              "<Figure size 1000x700 with 1 Axes>"
            ],
            "image/png": "[encoded data removed]"
          },
          "metadata": {}
        }
      ]
    },
    {
      "cell_type": "markdown",
      "source": [
        "## 2. Build model\n",
        "\n",
        "What our model does:\n",
        "* Start with random values for weight and bias\n",
        "* Look at the training data and adjust the random values to better represent the ideal values\n",
        "\n",
        "How does it do this?\n",
        "1. Through gradient descent - https://www.youtube.com/watch?v=sDv4f4s2SB8\n",
        "2. Backpropogation - https://www.youtube.com/watch?v=Ilg3gGewQ5U"
      ],
      "metadata": {
        "id": "Q_aKQCjsMJO2"
      }
    },
    {
      "cell_type": "code",
      "source": [
        "# Create a linear regression model class\n",
        "\n",
        "class LinearRegressionModel(nn.Module):\n",
        "  def __init__(self):\n",
        "    super().__init__()\n",
        "    self.weight = nn.Parameter(torch.randn(1,\n",
        "                                            requires_grad=True,\n",
        "                                            dtype=torch.float))\n",
        "    self.bias = nn.Parameter(torch.rand(1,\n",
        "                                        requires_grad=True,\n",
        "                                        dtype=torch.float))\n",
        "\n",
        "  # Forward defines the computation in the model\n",
        "  def forward(self, x: torch.Tensor) -> torch.Tensor:\n",
        "    return self.weight * x + self.bias\n",
        ""
      ],
      "metadata": {
        "id": "h-mYv7mdI_y-"
      },
      "execution_count": 10,
      "outputs": []
    },
    {
      "cell_type": "markdown",
      "source": [
        "### PyTorch model building essentials\n",
        "\n",
        "* torch.nn - contains all of the buildings for computational graphs\n",
        "* torch.nn.Paramter - what parameters should our model try and learn\n",
        "* torch.nn.Module - The base class for all neural network modules\n",
        "* torch.optim - this is where the optimizers in PyTorch live, they will help with gradient descent\n",
        "* def forward() - All nn.Module subclasses require you to overwrite forward, this method defines what happens in the forward computation\n",
        "\n",
        "[PyTorch Cheat Sheet](https://pytorch.org/tutorials/beginner/ptcheat.html)\n"
      ],
      "metadata": {
        "id": "j9FpAKkDcJ_i"
      }
    },
    {
      "cell_type": "markdown",
      "source": [
        "### Checking the contents of our PyTorch model\n",
        "\n",
        "Now we've created a model, let's see what's inside.\n",
        "We can check out our model parameters or what's inside our model by using .parameters"
      ],
      "metadata": {
        "id": "SvCoWvWZOsDD"
      }
    },
    {
      "cell_type": "code",
      "source": [
        "# Create a random seed\n",
        "torch.manual_seed(42)\n",
        "\n",
        "# Create an instance of the model\n",
        "model_0 = LinearRegressionModel()\n",
        "\n",
        "# Check out the parameters\n",
        "list(model_0.parameters())"
      ],
      "metadata": {
        "colab": {
          "base_uri": "https://localhost:8080/"
        },
        "id": "U6zgvQLUbzhH",
        "outputId": "26bd02d3-c7fd-4b56-b80b-3ef753a28836"
      },
      "execution_count": 11,
      "outputs": [
        {
          "output_type": "execute_result",
          "data": {
            "text/plain": [
              "[Parameter containing:\n",
              " tensor([0.3367], requires_grad=True),\n",
              " Parameter containing:\n",
              " tensor([0.3904], requires_grad=True)]"
            ]
          },
          "metadata": {},
          "execution_count": 11
        }
      ]
    },
    {
      "cell_type": "code",
      "source": [
        "# List named parameters\n",
        "model_0.state_dict()"
      ],
      "metadata": {
        "colab": {
          "base_uri": "https://localhost:8080/"
        },
        "id": "dEvMm2X5PBh7",
        "outputId": "934acbc3-77f5-4dd7-b79a-d3ede0afcbbd"
      },
      "execution_count": 12,
      "outputs": [
        {
          "output_type": "execute_result",
          "data": {
            "text/plain": [
              "OrderedDict([('weight', tensor([0.3367])), ('bias', tensor([0.3904]))])"
            ]
          },
          "metadata": {},
          "execution_count": 12
        }
      ]
    },
    {
      "cell_type": "markdown",
      "source": [
        "### Making prediction using `torch.inference_mode()`\n",
        "\n",
        "To check out the model's predictive power, let's see how well it predicts `y_test` based on `X_test`\n",
        "\n",
        "When we pass data through our model, it's going to run it through the `forward()` method."
      ],
      "metadata": {
        "id": "hqYny_zUTG8s"
      }
    },
    {
      "cell_type": "code",
      "source": [
        "# Make predictions with model\n",
        "with torch.inference_mode():\n",
        "  y_preds = model_0(X_test)\n",
        "\n",
        "y_preds"
      ],
      "metadata": {
        "colab": {
          "base_uri": "https://localhost:8080/"
        },
        "id": "O8ceiVbWSafl",
        "outputId": "556ba687-e1b6-4044-91e1-ebef1f8917c6"
      },
      "execution_count": 13,
      "outputs": [
        {
          "output_type": "execute_result",
          "data": {
            "text/plain": [
              "tensor([[0.6598],\n",
              "        [0.6665],\n",
              "        [0.6733],\n",
              "        [0.6800],\n",
              "        [0.6867],\n",
              "        [0.6935],\n",
              "        [0.7002],\n",
              "        [0.7069],\n",
              "        [0.7137],\n",
              "        [0.7204]])"
            ]
          },
          "metadata": {},
          "execution_count": 13
        }
      ]
    },
    {
      "cell_type": "code",
      "source": [
        "plot_predictions(predictions=y_preds)"
      ],
      "metadata": {
        "colab": {
          "base_uri": "https://localhost:8080/",
          "height": 599
        },
        "id": "o-FV8hl_Thds",
        "outputId": "11546878-4952-4f48-a0c0-acbd687e3b07"
      },
      "execution_count": 14,
      "outputs": [
        {
          "output_type": "display_data",
          "data": {
            "text/plain": [
              "<Figure size 1000x700 with 1 Axes>"
            ],
            "image/png": "[encoded data removed]"
          },
          "metadata": {}
        }
      ]
    },
    {
      "cell_type": "markdown",
      "source": [
        "## 3. Train a model\n",
        "\n",
        "The whole idea of training is for a model to move from some *unknown* parameters (these may be random) to some *known* parameters.\n",
        "\n",
        "Or in other words, from a poor representation of the data to a better representation of the data.\n",
        "\n",
        "One way to measure how poor or how wrong your models predictions are is to use a loss function.\n",
        "\n",
        "A loss function may also be called a cost function, or a criterion in different areas.  For this case, we're going to refer to it as a loss function\n",
        "\n",
        "Things we need to train:\n",
        "\n",
        "**Loss Function**: A function to measure how wrong the model's predictions are to the ideal output.  Lower values are better.\n",
        "\n",
        "**Optimizer**: Takes into account the loss of a model and adjusts the model's parameters (e.g. the weight and bias) to improve the loss function.\n",
        "  * Inside the optimizer you'll have to set two parameters\n",
        "    * `params` - the model parameters you'd like to optimize\n",
        "    * `lr` - the learning rate of the optimizer\n",
        "\n",
        "Specifically for PyTorch we need:\n",
        "* A training loop\n",
        "* A testing loop"
      ],
      "metadata": {
        "id": "GpbPkZhWYvlt"
      }
    },
    {
      "cell_type": "code",
      "source": [
        "# Setup a loss function\n",
        "loss_fn = nn.L1Loss()\n",
        "\n",
        "# Setup an optimizer\n",
        "optimizer = torch.optim.SGD(params=model_0.parameters(),\n",
        "                            lr=0.01)"
      ],
      "metadata": {
        "id": "Afuv-BXcUPPW"
      },
      "execution_count": 15,
      "outputs": []
    },
    {
      "cell_type": "markdown",
      "source": [
        "### Building a training and testing loop\n",
        "\n",
        "Some things we will need\n",
        "0. Loop through the data\n",
        "1. Forward pass this involves data moving through the model's `forward()` function\n",
        "2. Calculate the loss\n",
        "3. Optimize zero grad\n",
        "4. Loss backward - move backwards through the network to calculate the gradients of each parameter of the model with respect to the loss (**backpropogation**)\n",
        "5. Optimizer step - Use the optimizer to adjust the model's parameters to try and improve the loss (**Gradient Descent**)\n",
        "\n"
      ],
      "metadata": {
        "id": "e0vZl2t8kfNg"
      }
    },
    {
      "cell_type": "code",
      "source": [
        "# An epoch is one loop through the data..\n",
        "epochs = 200\n",
        "\n",
        "# Track different values\n",
        "epoch_count = []\n",
        "loss_values = []\n",
        "test_loss_values = []\n",
        "\n",
        "### Training\n",
        "for epoch in range(epochs):\n",
        "  # Set the model the training mode\n",
        "  model_0.train()\n",
        "\n",
        "  # 1. Forward pass\n",
        "  y_pred = model_0(X_train)\n",
        "\n",
        "  # 2. Calculate the loss\n",
        "  loss = loss_fn(y_pred, y_train)\n",
        "  # print(f'Loss: {loss}')\n",
        "\n",
        "  # 3. Optimizer zero grad\n",
        "  optimizer.zero_grad() # If we don't zero the gradient descent, the optimizer accumulates the values\n",
        "\n",
        "  # 4. Perform backpropogation on the loss with respect to the parameters\n",
        "  loss.backward()\n",
        "\n",
        "  # 5. Step the optimizer (perform gradient descent)\n",
        "  optimizer.step()\n",
        "\n",
        "  ## Testing\n",
        "  model_0.eval()\n",
        "  with torch.inference_mode():\n",
        "    test_pred = model_0(X_test)\n",
        "    test_loss = loss_fn(test_pred, y_test)\n",
        "\n",
        "  epoch_count.append(epoch)\n",
        "  loss_values.append(loss.detach().numpy())\n",
        "  test_loss_values.append(test_loss)\n",
        "\n",
        "  print(f\"Epoch: {epoch} | Loss: {loss} | Test loss: {test_loss}\")"
      ],
      "metadata": {
        "colab": {
          "base_uri": "https://localhost:8080/"
        },
        "id": "hlkdqoq7kO3g",
        "outputId": "582045d7-9019-4455-daee-1a4c4c8e7f93"
      },
      "execution_count": 16,
      "outputs": [
        {
          "output_type": "stream",
          "name": "stdout",
          "text": [
            "Epoch: 0 | Loss: 0.08169572055339813 | Test loss: 0.22662055492401123\n",
            "Epoch: 1 | Loss: 0.07951223105192184 | Test loss: 0.22095942497253418\n",
            "Epoch: 2 | Loss: 0.07771821320056915 | Test loss: 0.21529832482337952\n",
            "Epoch: 3 | Loss: 0.07596267759799957 | Test loss: 0.21026185154914856\n",
            "Epoch: 4 | Loss: 0.07452543079853058 | Test loss: 0.20522534847259521\n",
            "Epoch: 5 | Loss: 0.07310795783996582 | Test loss: 0.2008223533630371\n",
            "Epoch: 6 | Loss: 0.07197895646095276 | Test loss: 0.196419358253479\n",
            "Epoch: 7 | Loss: 0.0708499550819397 | Test loss: 0.1920163482427597\n",
            "Epoch: 8 | Loss: 0.0698218122124672 | Test loss: 0.18825574219226837\n",
            "Epoch: 9 | Loss: 0.06895165145397186 | Test loss: 0.18449512124061584\n",
            "Epoch: 10 | Loss: 0.06808149069547653 | Test loss: 0.1807345449924469\n",
            "Epoch: 11 | Loss: 0.06732632219791412 | Test loss: 0.17762522399425507\n",
            "Epoch: 12 | Loss: 0.06666463613510132 | Test loss: 0.174515962600708\n",
            "Epoch: 13 | Loss: 0.06600294262170792 | Test loss: 0.17140667140483856\n",
            "Epoch: 14 | Loss: 0.06540142744779587 | Test loss: 0.16895759105682373\n",
            "Epoch: 15 | Loss: 0.06489682197570801 | Test loss: 0.1665084809064865\n",
            "Epoch: 16 | Loss: 0.06439221650362015 | Test loss: 0.16405943036079407\n",
            "Epoch: 17 | Loss: 0.06388760358095169 | Test loss: 0.16161032021045685\n",
            "Epoch: 18 | Loss: 0.06338393688201904 | Test loss: 0.15983030200004578\n",
            "Epoch: 19 | Loss: 0.062983937561512 | Test loss: 0.1580503284931183\n",
            "Epoch: 20 | Loss: 0.06258393079042435 | Test loss: 0.15627031028270721\n",
            "Epoch: 21 | Loss: 0.062183927744627 | Test loss: 0.15449030697345734\n",
            "Epoch: 22 | Loss: 0.06178393214941025 | Test loss: 0.15271031856536865\n",
            "Epoch: 23 | Loss: 0.0613839253783226 | Test loss: 0.15093031525611877\n",
            "Epoch: 24 | Loss: 0.06098393350839615 | Test loss: 0.1491503119468689\n",
            "Epoch: 25 | Loss: 0.0605839304625988 | Test loss: 0.14737029373645782\n",
            "Epoch: 26 | Loss: 0.06018794700503349 | Test loss: 0.14626829326152802\n",
            "Epoch: 27 | Loss: 0.05983894318342209 | Test loss: 0.145166277885437\n",
            "Epoch: 28 | Loss: 0.059489935636520386 | Test loss: 0.144064262509346\n",
            "Epoch: 29 | Loss: 0.05914094299077988 | Test loss: 0.1429622620344162\n",
            "Epoch: 30 | Loss: 0.05879194289445877 | Test loss: 0.1418602615594864\n",
            "Epoch: 31 | Loss: 0.058442939072847366 | Test loss: 0.14075824618339539\n",
            "Epoch: 32 | Loss: 0.05809393525123596 | Test loss: 0.13965626060962677\n",
            "Epoch: 33 | Loss: 0.057744938880205154 | Test loss: 0.13855424523353577\n",
            "Epoch: 34 | Loss: 0.057395946234464645 | Test loss: 0.13745222985744476\n",
            "Epoch: 35 | Loss: 0.05704693868756294 | Test loss: 0.13635022938251495\n",
            "Epoch: 36 | Loss: 0.05669793486595154 | Test loss: 0.13524821400642395\n",
            "Epoch: 37 | Loss: 0.05634894222021103 | Test loss: 0.13414621353149414\n",
            "Epoch: 38 | Loss: 0.05599994212388992 | Test loss: 0.13304421305656433\n",
            "Epoch: 39 | Loss: 0.055650949478149414 | Test loss: 0.13194219768047333\n",
            "Epoch: 40 | Loss: 0.05530194193124771 | Test loss: 0.13084018230438232\n",
            "Epoch: 41 | Loss: 0.0549529492855072 | Test loss: 0.12973818182945251\n",
            "Epoch: 42 | Loss: 0.0546039454638958 | Test loss: 0.1286361664533615\n",
            "Epoch: 43 | Loss: 0.05425494909286499 | Test loss: 0.1275341808795929\n",
            "Epoch: 44 | Loss: 0.053905945271253586 | Test loss: 0.1264321506023407\n",
            "Epoch: 45 | Loss: 0.05355694144964218 | Test loss: 0.12533016502857208\n",
            "Epoch: 46 | Loss: 0.053207945078611374 | Test loss: 0.12422814220190048\n",
            "Epoch: 47 | Loss: 0.05285894125699997 | Test loss: 0.12312612682580948\n",
            "Epoch: 48 | Loss: 0.05250995233654976 | Test loss: 0.12202414125204086\n",
            "Epoch: 49 | Loss: 0.052160948514938354 | Test loss: 0.12092211097478867\n",
            "Epoch: 50 | Loss: 0.051822252571582794 | Test loss: 0.12050700187683105\n",
            "Epoch: 51 | Loss: 0.05147574469447136 | Test loss: 0.11940500885248184\n",
            "Epoch: 52 | Loss: 0.05113323777914047 | Test loss: 0.11898986995220184\n",
            "Epoch: 53 | Loss: 0.050790537148714066 | Test loss: 0.11788785457611084\n",
            "Epoch: 54 | Loss: 0.05044422671198845 | Test loss: 0.11747274547815323\n",
            "Epoch: 55 | Loss: 0.050105344504117966 | Test loss: 0.11637072265148163\n",
            "Epoch: 56 | Loss: 0.04975634068250656 | Test loss: 0.11526872217655182\n",
            "Epoch: 57 | Loss: 0.04941902309656143 | Test loss: 0.11485359817743301\n",
            "Epoch: 58 | Loss: 0.049071140587329865 | Test loss: 0.11375157535076141\n",
            "Epoch: 59 | Loss: 0.04873000830411911 | Test loss: 0.1133364662528038\n",
            "Epoch: 60 | Loss: 0.04838593676686287 | Test loss: 0.11223447322845459\n",
            "Epoch: 61 | Loss: 0.048041004687547684 | Test loss: 0.111819326877594\n",
            "Epoch: 62 | Loss: 0.047700732946395874 | Test loss: 0.11071731895208359\n",
            "Epoch: 63 | Loss: 0.04735199362039566 | Test loss: 0.11030219495296478\n",
            "Epoch: 64 | Loss: 0.04701553285121918 | Test loss: 0.10920019447803497\n",
            "Epoch: 65 | Loss: 0.04666654020547867 | Test loss: 0.10809819400310516\n",
            "Epoch: 66 | Loss: 0.04632677882909775 | Test loss: 0.10768306255340576\n",
            "Epoch: 67 | Loss: 0.04598133638501167 | Test loss: 0.10658106952905655\n",
            "Epoch: 68 | Loss: 0.04563777148723602 | Test loss: 0.10616593062877655\n",
            "Epoch: 69 | Loss: 0.04529613256454468 | Test loss: 0.10506391525268555\n",
            "Epoch: 70 | Loss: 0.044948760420084 | Test loss: 0.10464880615472794\n",
            "Epoch: 71 | Loss: 0.04461093619465828 | Test loss: 0.10354678332805634\n",
            "Epoch: 72 | Loss: 0.04426193609833717 | Test loss: 0.10244479030370712\n",
            "Epoch: 73 | Loss: 0.043923549354076385 | Test loss: 0.10202965885400772\n",
            "Epoch: 74 | Loss: 0.04357672855257988 | Test loss: 0.10092766582965851\n",
            "Epoch: 75 | Loss: 0.04323454201221466 | Test loss: 0.10051252692937851\n",
            "Epoch: 76 | Loss: 0.042891524732112885 | Test loss: 0.0994105190038681\n",
            "Epoch: 77 | Loss: 0.042545534670352936 | Test loss: 0.0989953875541687\n",
            "Epoch: 78 | Loss: 0.042206332087516785 | Test loss: 0.09789338707923889\n",
            "Epoch: 79 | Loss: 0.04185732454061508 | Test loss: 0.09679140150547028\n",
            "Epoch: 80 | Loss: 0.04152031987905502 | Test loss: 0.09637625515460968\n",
            "Epoch: 81 | Loss: 0.041172128170728683 | Test loss: 0.09527425467967987\n",
            "Epoch: 82 | Loss: 0.0408313125371933 | Test loss: 0.09485913068056107\n",
            "Epoch: 83 | Loss: 0.04048692435026169 | Test loss: 0.09375714510679245\n",
            "Epoch: 84 | Loss: 0.04014230892062187 | Test loss: 0.09334202855825424\n",
            "Epoch: 85 | Loss: 0.03980172425508499 | Test loss: 0.09224001318216324\n",
            "Epoch: 86 | Loss: 0.03945329785346985 | Test loss: 0.09182487428188324\n",
            "Epoch: 87 | Loss: 0.039116524159908295 | Test loss: 0.09072288870811462\n",
            "Epoch: 88 | Loss: 0.03876752778887749 | Test loss: 0.08962088823318481\n",
            "Epoch: 89 | Loss: 0.038428083062171936 | Test loss: 0.08920575678348541\n",
            "Epoch: 90 | Loss: 0.03808232396841049 | Test loss: 0.08810374140739441\n",
            "Epoch: 91 | Loss: 0.03773907572031021 | Test loss: 0.0876886174082756\n",
            "Epoch: 92 | Loss: 0.037397127598524094 | Test loss: 0.0865866094827652\n",
            "Epoch: 93 | Loss: 0.03705006465315819 | Test loss: 0.0861714780330658\n",
            "Epoch: 94 | Loss: 0.0367119237780571 | Test loss: 0.08506946265697479\n",
            "Epoch: 95 | Loss: 0.03636292368173599 | Test loss: 0.08396747708320618\n",
            "Epoch: 96 | Loss: 0.03602485731244087 | Test loss: 0.08355235308408737\n",
            "Epoch: 97 | Loss: 0.0356777161359787 | Test loss: 0.08245031535625458\n",
            "Epoch: 98 | Loss: 0.03533584997057915 | Test loss: 0.08203520625829697\n",
            "Epoch: 99 | Loss: 0.0349925234913826 | Test loss: 0.08093319833278656\n",
            "Epoch: 100 | Loss: 0.034646838903427124 | Test loss: 0.08051808178424835\n",
            "Epoch: 101 | Loss: 0.034307319670915604 | Test loss: 0.07941607385873795\n",
            "Epoch: 102 | Loss: 0.0339583158493042 | Test loss: 0.07831406593322754\n",
            "Epoch: 103 | Loss: 0.03362162038683891 | Test loss: 0.07789894938468933\n",
            "Epoch: 104 | Loss: 0.0332731194794178 | Test loss: 0.07679693400859833\n",
            "Epoch: 105 | Loss: 0.03293261304497719 | Test loss: 0.07638178765773773\n",
            "Epoch: 106 | Loss: 0.0325879231095314 | Test loss: 0.07527980208396912\n",
            "Epoch: 107 | Loss: 0.03224359080195427 | Test loss: 0.07486467063426971\n",
            "Epoch: 108 | Loss: 0.03190271928906441 | Test loss: 0.0737626776099205\n",
            "Epoch: 109 | Loss: 0.03155459091067314 | Test loss: 0.0733475461602211\n",
            "Epoch: 110 | Loss: 0.031217509880661964 | Test loss: 0.0722455382347107\n",
            "Epoch: 111 | Loss: 0.03086850605905056 | Test loss: 0.07114353030920029\n",
            "Epoch: 112 | Loss: 0.030529383569955826 | Test loss: 0.07072840631008148\n",
            "Epoch: 113 | Loss: 0.03018330968916416 | Test loss: 0.06962639838457108\n",
            "Epoch: 114 | Loss: 0.029840370640158653 | Test loss: 0.06921127438545227\n",
            "Epoch: 115 | Loss: 0.029498090967535973 | Test loss: 0.06810928881168365\n",
            "Epoch: 116 | Loss: 0.029151368886232376 | Test loss: 0.06769414991140366\n",
            "Epoch: 117 | Loss: 0.02881290577352047 | Test loss: 0.06659214198589325\n",
            "Epoch: 118 | Loss: 0.028463905677199364 | Test loss: 0.06549011915922165\n",
            "Epoch: 119 | Loss: 0.028126155957579613 | Test loss: 0.06507501006126404\n",
            "Epoch: 120 | Loss: 0.027778705582022667 | Test loss: 0.06397300213575363\n",
            "Epoch: 121 | Loss: 0.02743714675307274 | Test loss: 0.06355787068605423\n",
            "Epoch: 122 | Loss: 0.02709350362420082 | Test loss: 0.06245586276054382\n",
            "Epoch: 123 | Loss: 0.026748131960630417 | Test loss: 0.062040768563747406\n",
            "Epoch: 124 | Loss: 0.026408309116959572 | Test loss: 0.06093872711062431\n",
            "Epoch: 125 | Loss: 0.02605929970741272 | Test loss: 0.05983671545982361\n",
            "Epoch: 126 | Loss: 0.02572292648255825 | Test loss: 0.0594215914607048\n",
            "Epoch: 127 | Loss: 0.02537410333752632 | Test loss: 0.058319590985774994\n",
            "Epoch: 128 | Loss: 0.02503391169011593 | Test loss: 0.057904474437236786\n",
            "Epoch: 129 | Loss: 0.024688903242349625 | Test loss: 0.05680247023701668\n",
            "Epoch: 130 | Loss: 0.024344902485609055 | Test loss: 0.05638733506202698\n",
            "Epoch: 131 | Loss: 0.02400369569659233 | Test loss: 0.05528532713651657\n",
            "Epoch: 132 | Loss: 0.02365589514374733 | Test loss: 0.054870206862688065\n",
            "Epoch: 133 | Loss: 0.023318495601415634 | Test loss: 0.05376818776130676\n",
            "Epoch: 134 | Loss: 0.022969502955675125 | Test loss: 0.05266619846224785\n",
            "Epoch: 135 | Loss: 0.022630682215094566 | Test loss: 0.05225106328725815\n",
            "Epoch: 136 | Loss: 0.02228429540991783 | Test loss: 0.051149070262908936\n",
            "Epoch: 137 | Loss: 0.021941671147942543 | Test loss: 0.05073394253849983\n",
            "Epoch: 138 | Loss: 0.021599095314741135 | Test loss: 0.04963193088769913\n",
            "Epoch: 139 | Loss: 0.021252665668725967 | Test loss: 0.04921679571270943\n",
            "Epoch: 140 | Loss: 0.020913895219564438 | Test loss: 0.04811479523777962\n",
            "Epoch: 141 | Loss: 0.020564889535307884 | Test loss: 0.04701279476284981\n",
            "Epoch: 142 | Loss: 0.020227450877428055 | Test loss: 0.046597670763731\n",
            "Epoch: 143 | Loss: 0.019879689440131187 | Test loss: 0.045495666563510895\n",
            "Epoch: 144 | Loss: 0.01953843981027603 | Test loss: 0.04508054256439209\n",
            "Epoch: 145 | Loss: 0.01919448934495449 | Test loss: 0.043978530913591385\n",
            "Epoch: 146 | Loss: 0.018849428743124008 | Test loss: 0.04356340318918228\n",
            "Epoch: 147 | Loss: 0.018509289249777794 | Test loss: 0.042461395263671875\n",
            "Epoch: 148 | Loss: 0.018160417675971985 | Test loss: 0.04204626753926277\n",
            "Epoch: 149 | Loss: 0.01782408356666565 | Test loss: 0.04094426706433296\n",
            "Epoch: 150 | Loss: 0.017475087195634842 | Test loss: 0.03984225541353226\n",
            "Epoch: 151 | Loss: 0.01713521033525467 | Test loss: 0.03942713141441345\n",
            "Epoch: 152 | Loss: 0.016789885237812996 | Test loss: 0.03832511976361275\n",
            "Epoch: 153 | Loss: 0.016446199268102646 | Test loss: 0.03791000321507454\n",
            "Epoch: 154 | Loss: 0.01610468327999115 | Test loss: 0.03680798411369324\n",
            "Epoch: 155 | Loss: 0.015757188200950623 | Test loss: 0.03639286011457443\n",
            "Epoch: 156 | Loss: 0.01541948039084673 | Test loss: 0.035290855914354324\n",
            "Epoch: 157 | Loss: 0.015070480294525623 | Test loss: 0.03418884798884392\n",
            "Epoch: 158 | Loss: 0.01473198551684618 | Test loss: 0.03377372771501541\n",
            "Epoch: 159 | Loss: 0.014385280199348927 | Test loss: 0.032671719789505005\n",
            "Epoch: 160 | Loss: 0.014042967930436134 | Test loss: 0.0322565920650959\n",
            "Epoch: 161 | Loss: 0.013700077310204506 | Test loss: 0.031154602766036987\n",
            "Epoch: 162 | Loss: 0.013353961519896984 | Test loss: 0.03073945641517639\n",
            "Epoch: 163 | Loss: 0.01301487348973751 | Test loss: 0.029637455940246582\n",
            "Epoch: 164 | Loss: 0.012665877118706703 | Test loss: 0.028535444289445877\n",
            "Epoch: 165 | Loss: 0.012328749522566795 | Test loss: 0.028120320290327072\n",
            "Epoch: 166 | Loss: 0.011980678886175156 | Test loss: 0.027018319815397263\n",
            "Epoch: 167 | Loss: 0.011639741249382496 | Test loss: 0.02660319209098816\n",
            "Epoch: 168 | Loss: 0.011295471340417862 | Test loss: 0.025501161813735962\n",
            "Epoch: 169 | Loss: 0.010950731113553047 | Test loss: 0.02508607506752014\n",
            "Epoch: 170 | Loss: 0.010610274039208889 | Test loss: 0.02398405596613884\n",
            "Epoch: 171 | Loss: 0.01026171911507845 | Test loss: 0.023568928241729736\n",
            "Epoch: 172 | Loss: 0.009925071150064468 | Test loss: 0.02246691659092903\n",
            "Epoch: 173 | Loss: 0.009576069191098213 | Test loss: 0.021364903077483177\n",
            "Epoch: 174 | Loss: 0.009236511774361134 | Test loss: 0.020949792116880417\n",
            "Epoch: 175 | Loss: 0.008890870027244091 | Test loss: 0.019847780466079712\n",
            "Epoch: 176 | Loss: 0.008547498844563961 | Test loss: 0.019432634115219116\n",
            "Epoch: 177 | Loss: 0.008205670863389969 | Test loss: 0.018330639228224754\n",
            "Epoch: 178 | Loss: 0.007858489640057087 | Test loss: 0.017915528267621994\n",
            "Epoch: 179 | Loss: 0.007520465645939112 | Test loss: 0.016813522204756737\n",
            "Epoch: 180 | Loss: 0.007171472068876028 | Test loss: 0.015711510553956032\n",
            "Epoch: 181 | Loss: 0.006833276245743036 | Test loss: 0.015296375378966331\n",
            "Epoch: 182 | Loss: 0.006486266851425171 | Test loss: 0.014194374904036522\n",
            "Epoch: 183 | Loss: 0.006144268903881311 | Test loss: 0.013779252767562866\n",
            "Epoch: 184 | Loss: 0.005801063030958176 | Test loss: 0.012677246704697609\n",
            "Epoch: 185 | Loss: 0.00545525923371315 | Test loss: 0.012262111529707909\n",
            "Epoch: 186 | Loss: 0.0051158638671040535 | Test loss: 0.011160117574036121\n",
            "Epoch: 187 | Loss: 0.0047668637707829475 | Test loss: 0.01005811057984829\n",
            "Epoch: 188 | Loss: 0.004430046770721674 | Test loss: 0.009642982855439186\n",
            "Epoch: 189 | Loss: 0.004081658087670803 | Test loss: 0.008540970273315907\n",
            "Epoch: 190 | Loss: 0.003741039428859949 | Test loss: 0.008125847205519676\n",
            "Epoch: 191 | Loss: 0.003396458923816681 | Test loss: 0.007023847196251154\n",
            "Epoch: 192 | Loss: 0.0030520304571837187 | Test loss: 0.006608718540519476\n",
            "Epoch: 193 | Loss: 0.002711259527131915 | Test loss: 0.005506712011992931\n",
            "Epoch: 194 | Loss: 0.0023630172945559025 | Test loss: 0.005091589875519276\n",
            "Epoch: 195 | Loss: 0.0020317495800554752 | Test loss: 0.0033116161357611418\n",
            "Epoch: 196 | Loss: 0.00172170321457088 | Test loss: 0.005010634660720825\n",
            "Epoch: 197 | Loss: 0.0017794370651245117 | Test loss: 0.0030598342418670654\n",
            "Epoch: 198 | Loss: 0.004964242689311504 | Test loss: 0.010411137714982033\n",
            "Epoch: 199 | Loss: 0.006556747946888208 | Test loss: 0.0030598342418670654\n"
          ]
        }
      ]
    },
    {
      "cell_type": "code",
      "source": [
        "# Make predictions with model\n",
        "with torch.inference_mode():\n",
        "  y_preds = model_0(X_test)\n",
        "\n",
        "y_preds"
      ],
      "metadata": {
        "colab": {
          "base_uri": "https://localhost:8080/"
        },
        "id": "wOeui4ghpaef",
        "outputId": "a38aa6d4-5fa4-41e7-be37-a83c4dd89e37"
      },
      "execution_count": 17,
      "outputs": [
        {
          "output_type": "execute_result",
          "data": {
            "text/plain": [
              "tensor([[0.8634],\n",
              "        [0.8773],\n",
              "        [0.8913],\n",
              "        [0.9052],\n",
              "        [0.9191],\n",
              "        [0.9330],\n",
              "        [0.9469],\n",
              "        [0.9609],\n",
              "        [0.9748],\n",
              "        [0.9887]])"
            ]
          },
          "metadata": {},
          "execution_count": 17
        }
      ]
    },
    {
      "cell_type": "code",
      "source": [
        "plot_predictions(predictions=y_preds)"
      ],
      "metadata": {
        "colab": {
          "base_uri": "https://localhost:8080/",
          "height": 599
        },
        "id": "8tq0KaUUpjZV",
        "outputId": "1aaa91aa-1e63-4f7d-a01c-c7b88441962e"
      },
      "execution_count": 18,
      "outputs": [
        {
          "output_type": "display_data",
          "data": {
            "text/plain": [
              "<Figure size 1000x700 with 1 Axes>"
            ],
            "image/png": "[encoded data removed]"
          },
          "metadata": {}
        }
      ]
    },
    {
      "cell_type": "code",
      "source": [
        "import numpy as np\n",
        "\n",
        "plt.plot(epoch_count, loss_values, label=\"Train loss\")\n",
        "plt.plot(epoch_count, test_loss_values, label='Test loss')\n",
        "plt.title('Training and test loss curves')\n",
        "plt.ylabel('Loss')\n",
        "plt.xlabel('Epochs')\n",
        "plt.legend()"
      ],
      "metadata": {
        "colab": {
          "base_uri": "https://localhost:8080/",
          "height": 489
        },
        "id": "UdSxG8-Qp7Cm",
        "outputId": "3d3467e8-2305-4b67-9c09-a05f45ea5645"
      },
      "execution_count": 19,
      "outputs": [
        {
          "output_type": "execute_result",
          "data": {
            "text/plain": [
              "<matplotlib.legend.Legend at 0x7c04655e2860>"
            ]
          },
          "metadata": {},
          "execution_count": 19
        },
        {
          "output_type": "display_data",
          "data": {
            "text/plain": [
              "<Figure size 640x480 with 1 Axes>"
            ],
            "image/png": "[encoded data removed]"
          },
          "metadata": {}
        }
      ]
    },
    {
      "cell_type": "markdown",
      "source": [
        "### Saving a model in PyTorch\n",
        "\n",
        "There are three main methods you should know about for saving and loading models in PyTorch\n",
        "\n",
        "1. `torch.save()` - allows you to save a PyTorch object in Python's pickle format\n",
        "2. `torch.load()` - allows you to load a PyTorch object\n",
        "3. `torch.nn.Module.load_state_dict()` - this allows the loading of a model's state dictionary."
      ],
      "metadata": {
        "id": "HhyOXWTlyHpC"
      }
    },
    {
      "cell_type": "code",
      "source": [
        "# Saving our PyTorch model\n",
        "from pathlib import Path\n",
        "\n",
        "# Create models directory\n",
        "MODEL_PATH = Path('models')\n",
        "MODEL_PATH.mkdir(parents=True, exist_ok=True)\n",
        "\n",
        "# Create a model save path\n",
        "MODEL_NAME = '01_pytorch_workflow_model.pth'\n",
        "MODEL_SAVE_PATH = MODEL_PATH / MODEL_NAME\n",
        "\n",
        "# Save the model state dict\n",
        "print(f\"Saving model to: {MODEL_SAVE_PATH}\")\n",
        "torch.save(obj=model_0.state_dict(), f=MODEL_SAVE_PATH)"
      ],
      "metadata": {
        "colab": {
          "base_uri": "https://localhost:8080/"
        },
        "id": "e8ZkpC7gzFO2",
        "outputId": "007d7a40-a433-4ab0-85e2-6d3ddeccf480"
      },
      "execution_count": 20,
      "outputs": [
        {
          "output_type": "stream",
          "name": "stdout",
          "text": [
            "Saving model to: models/01_pytorch_workflow_model.pth\n"
          ]
        }
      ]
    },
    {
      "cell_type": "markdown",
      "source": [
        "### Loading a PyTorch model\n",
        "\n",
        "Since we saved the mode's state dict, rather the endire model, we'll create a new instance of our model's class and load the state_dict() into that."
      ],
      "metadata": {
        "id": "qqm8uimN1Ch5"
      }
    },
    {
      "cell_type": "code",
      "source": [
        "# To load in a saved state_dict, we have to instantiate a new insta of the model's class\n",
        "\n",
        "loaded_model_0 = LinearRegressionModel()\n",
        "\n",
        "# Load the saved state_dict of model_0\n",
        "loaded_model_0.load_state_dict(torch.load(f=MODEL_SAVE_PATH))"
      ],
      "metadata": {
        "colab": {
          "base_uri": "https://localhost:8080/"
        },
        "id": "OUwd0_TMziwJ",
        "outputId": "de8d6437-b924-4fdd-a5aa-bcddecfcec1c"
      },
      "execution_count": 21,
      "outputs": [
        {
          "output_type": "stream",
          "name": "stderr",
          "text": [
            "<ipython-input-21-53939aeaa4f4>:6: FutureWarning: You are using `torch.load` with `weights_only=False` (the current default value), which uses the default pickle module implicitly. It is possible to construct malicious pickle data which will execute arbitrary code during unpickling (See https://github.com/pytorch/pytorch/blob/main/SECURITY.md#untrusted-models for more details). In a future release, the default value for `weights_only` will be flipped to `True`. This limits the functions that could be executed during unpickling. Arbitrary objects will no longer be allowed to be loaded via this mode unless they are explicitly allowlisted by the user via `torch.serialization.add_safe_globals`. We recommend you start setting `weights_only=True` for any use case where you don't have full control of the loaded file. Please open an issue on GitHub for any issues related to this experimental feature.\n",
            "  loaded_model_0.load_state_dict(torch.load(f=MODEL_SAVE_PATH))\n"
          ]
        },
        {
          "output_type": "execute_result",
          "data": {
            "text/plain": [
              "<All keys matched successfully>"
            ]
          },
          "metadata": {},
          "execution_count": 21
        }
      ]
    },
    {
      "cell_type": "code",
      "source": [
        "loaded_model_0.state_dict()"
      ],
      "metadata": {
        "colab": {
          "base_uri": "https://localhost:8080/"
        },
        "id": "q6-bFnag4bgr",
        "outputId": "d77b4d9e-71ab-4787-e1f8-66007dbebd9b"
      },
      "execution_count": 22,
      "outputs": [
        {
          "output_type": "execute_result",
          "data": {
            "text/plain": [
              "OrderedDict([('weight', tensor([0.6962])), ('bias', tensor([0.3064]))])"
            ]
          },
          "metadata": {},
          "execution_count": 22
        }
      ]
    },
    {
      "cell_type": "code",
      "source": [
        "loaded_model_0.eval()\n",
        "with torch.inference_mode():\n",
        "  loaded_model_preds = loaded_model_0(X_test)\n",
        "\n",
        "loaded_model_preds"
      ],
      "metadata": {
        "colab": {
          "base_uri": "https://localhost:8080/"
        },
        "id": "iDeT9u1o4mKU",
        "outputId": "658583c1-c3c8-48e3-c769-61c34fbf9c90"
      },
      "execution_count": 23,
      "outputs": [
        {
          "output_type": "execute_result",
          "data": {
            "text/plain": [
              "tensor([[0.8634],\n",
              "        [0.8773],\n",
              "        [0.8913],\n",
              "        [0.9052],\n",
              "        [0.9191],\n",
              "        [0.9330],\n",
              "        [0.9469],\n",
              "        [0.9609],\n",
              "        [0.9748],\n",
              "        [0.9887]])"
            ]
          },
          "metadata": {},
          "execution_count": 23
        }
      ]
    },
    {
      "cell_type": "markdown",
      "source": [
        "## Putting it all together"
      ],
      "metadata": {
        "id": "kkvrqAKS7Z0y"
      }
    },
    {
      "cell_type": "markdown",
      "source": [
        "## Data"
      ],
      "metadata": {
        "id": "UPYsZmb37eO7"
      }
    },
    {
      "cell_type": "code",
      "source": [
        "# Create some data using the linear regression formula of y = weight * X + bias\n",
        "weight = 0.4\n",
        "bias = 0.8\n",
        "\n",
        "start = 0\n",
        "end = 1\n",
        "step = 0.02\n",
        "X = torch.arange(start, end, step).unsqueeze(dim=1)\n",
        "y = weight * X + bias\n",
        "\n",
        "X[:10], y[:10]"
      ],
      "metadata": {
        "colab": {
          "base_uri": "https://localhost:8080/"
        },
        "id": "oIeQbL0k4rLJ",
        "outputId": "f82b4d01-c540-46d9-dbe3-7370a1d28e03"
      },
      "execution_count": 24,
      "outputs": [
        {
          "output_type": "execute_result",
          "data": {
            "text/plain": [
              "(tensor([[0.0000],\n",
              "         [0.0200],\n",
              "         [0.0400],\n",
              "         [0.0600],\n",
              "         [0.0800],\n",
              "         [0.1000],\n",
              "         [0.1200],\n",
              "         [0.1400],\n",
              "         [0.1600],\n",
              "         [0.1800]]),\n",
              " tensor([[0.8000],\n",
              "         [0.8080],\n",
              "         [0.8160],\n",
              "         [0.8240],\n",
              "         [0.8320],\n",
              "         [0.8400],\n",
              "         [0.8480],\n",
              "         [0.8560],\n",
              "         [0.8640],\n",
              "         [0.8720]]))"
            ]
          },
          "metadata": {},
          "execution_count": 24
        }
      ]
    },
    {
      "cell_type": "code",
      "source": [
        "# Split the data\n",
        "train_split = int(0.8 * len(X))\n",
        "X_train, y_train = X[:train_split], y[:train_split]\n",
        "X_test, y_test = X[train_split:], y[train_split:]\n",
        "len(X_train), len(y_train), len(X_test), len(y_test)"
      ],
      "metadata": {
        "colab": {
          "base_uri": "https://localhost:8080/"
        },
        "id": "Hn67WKz-7_MT",
        "outputId": "61f29e93-625c-43d0-fd48-06768f29dcbf"
      },
      "execution_count": 25,
      "outputs": [
        {
          "output_type": "execute_result",
          "data": {
            "text/plain": [
              "(40, 40, 10, 10)"
            ]
          },
          "metadata": {},
          "execution_count": 25
        }
      ]
    },
    {
      "cell_type": "code",
      "source": [
        "# Plot the data\n",
        "\n",
        "plot_predictions(X_train, y_train, X_test, y_test)"
      ],
      "metadata": {
        "colab": {
          "base_uri": "https://localhost:8080/",
          "height": 599
        },
        "id": "Vfhg9-Yb8ZYk",
        "outputId": "44b909fc-dbfc-44ec-ed41-b85a838f96a1"
      },
      "execution_count": 26,
      "outputs": [
        {
          "output_type": "display_data",
          "data": {
            "text/plain": [
              "<Figure size 1000x700 with 1 Axes>"
            ],
            "image/png": "[encoded data removed]"
          },
          "metadata": {}
        }
      ]
    },
    {
      "cell_type": "markdown",
      "source": [
        "### Building a PyTorch Linear model"
      ],
      "metadata": {
        "id": "6ZSh2UJS9CjZ"
      }
    },
    {
      "cell_type": "code",
      "source": [
        "# Create a linear model\n",
        "\n",
        "class LinearRegressionModelV2(nn.Module):\n",
        "  def __init__(self):\n",
        "    super().__init__()\n",
        "\n",
        "    # Use nn.Linear() for creating the model parameters\n",
        "    self.linear_layer = nn.Linear(in_features=1,\n",
        "                                  out_features=1)\n",
        "\n",
        "  def forward(self, x: torch.Tensor) -> torch.Tensor:\n",
        "    return self.linear_layer(x)\n",
        "\n",
        "# Set the manual seed\n",
        "torch.manual_seed(42)\n",
        "model_1 = LinearRegressionModelV2()\n",
        "model_1, model_1.state_dict()"
      ],
      "metadata": {
        "colab": {
          "base_uri": "https://localhost:8080/"
        },
        "id": "hlzFpiGz8sdk",
        "outputId": "23d18727-ff2f-4948-ea69-ad0c92f67711"
      },
      "execution_count": 27,
      "outputs": [
        {
          "output_type": "execute_result",
          "data": {
            "text/plain": [
              "(LinearRegressionModelV2(\n",
              "   (linear_layer): Linear(in_features=1, out_features=1, bias=True)\n",
              " ),\n",
              " OrderedDict([('linear_layer.weight', tensor([[0.7645]])),\n",
              "              ('linear_layer.bias', tensor([0.8300]))]))"
            ]
          },
          "metadata": {},
          "execution_count": 27
        }
      ]
    },
    {
      "cell_type": "code",
      "source": [
        "# Set the model to use the target device\n",
        "model_1.to(device)\n",
        "next(model_1.parameters()).device"
      ],
      "metadata": {
        "colab": {
          "base_uri": "https://localhost:8080/"
        },
        "id": "4Qp7LHqnBBpD",
        "outputId": "0019da09-abb8-4c4a-a54a-f4434e7e5c73"
      },
      "execution_count": 28,
      "outputs": [
        {
          "output_type": "execute_result",
          "data": {
            "text/plain": [
              "device(type='cuda', index=0)"
            ]
          },
          "metadata": {},
          "execution_count": 28
        }
      ]
    },
    {
      "cell_type": "markdown",
      "source": [
        "### Training\n",
        "\n",
        "For training we need:\n",
        "* Loss function\n",
        "* Optimizer\n",
        "* Training Loop\n",
        "* Testing Loop"
      ],
      "metadata": {
        "id": "Nc7OEvMKCT5m"
      }
    },
    {
      "cell_type": "code",
      "source": [
        "# Setup loss function\n",
        "loss_fn = nn.L1Loss() # Same as MAE\n",
        "\n",
        "# Setup optimizer\n",
        "optimizer = torch.optim.SGD(params=model_1.parameters(),\n",
        "                            lr=.01)"
      ],
      "metadata": {
        "id": "3SDMq3g_CGkJ"
      },
      "execution_count": 29,
      "outputs": []
    },
    {
      "cell_type": "code",
      "source": [
        "# Put data on the target device\n",
        "X_train = X_train.to(device)\n",
        "y_train = y_train.to(device)\n",
        "X_test = X_test.to(device)\n",
        "y_test = y_test.to(device)"
      ],
      "metadata": {
        "id": "ScpAnI5cD_-c"
      },
      "execution_count": 36,
      "outputs": []
    },
    {
      "cell_type": "code",
      "source": [
        "# Write the training loop\n",
        "torch.manual_seed(42)\n",
        "\n",
        "epochs = 300\n",
        "\n",
        "for epoch in range(epochs):\n",
        "  model_1.train()\n",
        "  # Foward Pass\n",
        "  y_pred = model_1(X_train)\n",
        "\n",
        "  # Calculate the loss\n",
        "  loss = loss_fn(y_pred, y_train)\n",
        "\n",
        "  # Optimizer zero gradient\n",
        "  optimizer.zero_grad()\n",
        "\n",
        "  # Back propogation\n",
        "  loss.backward()\n",
        "\n",
        "  # optimizer step\n",
        "  optimizer.step()\n",
        "\n",
        "  # Testing\n",
        "  model_1.eval()\n",
        "  with torch.inference_mode():\n",
        "    test_pred = model_1(X_test)\n",
        "    test_loss = loss_fn(test_pred, y_test)\n",
        "\n",
        "  # Print out what's happening\n",
        "  if epoch % 10 == 0:\n",
        "    print(f\"Epoch: {epoch} | Loss: {loss} | Test loss: {test_loss}\")"
      ],
      "metadata": {
        "colab": {
          "base_uri": "https://localhost:8080/"
        },
        "id": "4PN7Hvx1C6v2",
        "outputId": "416ae732-162a-4d15-adf1-025e4248667f"
      },
      "execution_count": 54,
      "outputs": [
        {
          "output_type": "stream",
          "name": "stdout",
          "text": [
            "Epoch: 0 | Loss: 0.007591067347675562 | Test loss: 0.0016084194649010897\n",
            "Epoch: 10 | Loss: 0.007591067347675562 | Test loss: 0.0016084194649010897\n",
            "Epoch: 20 | Loss: 0.007591067347675562 | Test loss: 0.0016084194649010897\n",
            "Epoch: 30 | Loss: 0.007591067347675562 | Test loss: 0.0016084194649010897\n",
            "Epoch: 40 | Loss: 0.007591067347675562 | Test loss: 0.0016084194649010897\n",
            "Epoch: 50 | Loss: 0.007591067347675562 | Test loss: 0.0016084194649010897\n",
            "Epoch: 60 | Loss: 0.007591067347675562 | Test loss: 0.0016084194649010897\n",
            "Epoch: 70 | Loss: 0.007591067347675562 | Test loss: 0.0016084194649010897\n",
            "Epoch: 80 | Loss: 0.007591067347675562 | Test loss: 0.0016084194649010897\n",
            "Epoch: 90 | Loss: 0.007591067347675562 | Test loss: 0.0016084194649010897\n",
            "Epoch: 100 | Loss: 0.007591067347675562 | Test loss: 0.0016084194649010897\n",
            "Epoch: 110 | Loss: 0.007591067347675562 | Test loss: 0.0016084194649010897\n",
            "Epoch: 120 | Loss: 0.007591067347675562 | Test loss: 0.0016084194649010897\n",
            "Epoch: 130 | Loss: 0.007591067347675562 | Test loss: 0.0016084194649010897\n",
            "Epoch: 140 | Loss: 0.007591067347675562 | Test loss: 0.0016084194649010897\n",
            "Epoch: 150 | Loss: 0.007591067347675562 | Test loss: 0.0016084194649010897\n",
            "Epoch: 160 | Loss: 0.007591067347675562 | Test loss: 0.0016084194649010897\n",
            "Epoch: 170 | Loss: 0.007591067347675562 | Test loss: 0.0016084194649010897\n",
            "Epoch: 180 | Loss: 0.007591067347675562 | Test loss: 0.0016084194649010897\n",
            "Epoch: 190 | Loss: 0.007591067347675562 | Test loss: 0.0016084194649010897\n",
            "Epoch: 200 | Loss: 0.007591067347675562 | Test loss: 0.0016084194649010897\n",
            "Epoch: 210 | Loss: 0.007591067347675562 | Test loss: 0.0016084194649010897\n",
            "Epoch: 220 | Loss: 0.007591067347675562 | Test loss: 0.0016084194649010897\n",
            "Epoch: 230 | Loss: 0.007591067347675562 | Test loss: 0.0016084194649010897\n",
            "Epoch: 240 | Loss: 0.007591067347675562 | Test loss: 0.0016084194649010897\n",
            "Epoch: 250 | Loss: 0.007591067347675562 | Test loss: 0.0016084194649010897\n",
            "Epoch: 260 | Loss: 0.007591067347675562 | Test loss: 0.0016084194649010897\n",
            "Epoch: 270 | Loss: 0.007591067347675562 | Test loss: 0.0016084194649010897\n",
            "Epoch: 280 | Loss: 0.007591067347675562 | Test loss: 0.0016084194649010897\n",
            "Epoch: 290 | Loss: 0.007591067347675562 | Test loss: 0.0016084194649010897\n"
          ]
        }
      ]
    },
    {
      "cell_type": "code",
      "source": [
        "model_1.state_dict()"
      ],
      "metadata": {
        "colab": {
          "base_uri": "https://localhost:8080/"
        },
        "id": "7RS7wp3AEjbA",
        "outputId": "44e8e833-a60e-4dce-baf6-75e78b9e70b4"
      },
      "execution_count": 55,
      "outputs": [
        {
          "output_type": "execute_result",
          "data": {
            "text/plain": [
              "OrderedDict([('linear_layer.weight', tensor([[0.4085]], device='cuda:0')),\n",
              "             ('linear_layer.bias', tensor([0.8043], device='cuda:0'))])"
            ]
          },
          "metadata": {},
          "execution_count": 55
        }
      ]
    },
    {
      "cell_type": "code",
      "source": [
        "weight, bias"
      ],
      "metadata": {
        "colab": {
          "base_uri": "https://localhost:8080/"
        },
        "id": "6zWS57gXFGXi",
        "outputId": "acd90a68-db2b-4cc0-d134-1822fc4d4ac2"
      },
      "execution_count": 56,
      "outputs": [
        {
          "output_type": "execute_result",
          "data": {
            "text/plain": [
              "(0.4, 0.8)"
            ]
          },
          "metadata": {},
          "execution_count": 56
        }
      ]
    }
  ]
}